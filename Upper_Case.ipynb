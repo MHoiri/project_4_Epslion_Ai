{
 "cells": [
  {
   "cell_type": "code",
   "execution_count": 1,
   "metadata": {},
   "outputs": [],
   "source": [
    "import os\n",
    "import random\n",
    "import time"
   ]
  },
  {
   "cell_type": "code",
   "execution_count": 2,
   "metadata": {},
   "outputs": [],
   "source": [
    "def people_names (path):\n",
    "    people= os.listdir(path)\n",
    "    return people\n"
   ]
  },
  {
   "cell_type": "code",
   "execution_count": 4,
   "metadata": {},
   "outputs": [
    {
     "data": {
      "text/plain": [
       "['Adam Sandler.jpg',\n",
       " 'Angelina Julie.png',\n",
       " 'Ariana Grande.jpeg',\n",
       " 'Ben Affleck.jpg',\n",
       " 'Ben Stiller.jpg',\n",
       " 'Bill Gates.jpg',\n",
       " 'Brad Pitt.jpg',\n",
       " 'Britney Spears.jpg',\n",
       " 'Bruce Lee.jpg',\n",
       " 'Cameron Diaz.jpg',\n",
       " 'Dwayne Johnson.jpg',\n",
       " 'Elon Musk.jpg',\n",
       " 'Elton John.jpg',\n",
       " 'Jack Black.jpg',\n",
       " 'Jackie Chan.jpg',\n",
       " 'Jamie Foxx.jpg',\n",
       " 'Jason Segel.jpg',\n",
       " 'Jason Statham.jpg',\n",
       " 'Jeff Bezos.jpg',\n",
       " 'Jennifer Aniston.jpg',\n",
       " 'Jennifer Lopez.jpg',\n",
       " 'Jerry Seinfeld.jpg',\n",
       " 'Jim Carrey.jpg',\n",
       " 'John Cena.jpg',\n",
       " 'Johnny Depp.jpg',\n",
       " 'Josh Radnor.jpg',\n",
       " 'Julia Roberts.jpg',\n",
       " 'Justin Timberlake.jpg',\n",
       " 'Kate Upton.jpg',\n",
       " 'Keanu Reeves.jpg',\n",
       " 'Kevin Hart.jpg',\n",
       " 'Madonna.jpg',\n",
       " 'Mark Ruffalo.jpg',\n",
       " 'Mark Zuckerberg.jpg',\n",
       " 'Matt Damon.jpg',\n",
       " 'Michael Jackson.jpg',\n",
       " 'Michael Jordan.jpg',\n",
       " 'Mindy Kaling.jpg',\n",
       " 'Miranda Cosgrove.jpg',\n",
       " 'Neil Patrick Harris.jpg',\n",
       " 'Nick Jonas.jpg',\n",
       " 'Nicole Kidman.jpg',\n",
       " 'Paul Rudd.jpg',\n",
       " 'Robin Williams.jpg',\n",
       " 'Steve Carell.jpg',\n",
       " 'Steve Jobs.jpg',\n",
       " 'Sylvester Stallone.jpg',\n",
       " 'Tom Cruise.jpg',\n",
       " 'Will Ferrell.jpg',\n",
       " 'Will Smith.jpg']"
      ]
     },
     "execution_count": 4,
     "metadata": {},
     "output_type": "execute_result"
    }
   ],
   "source": [
    "universe = people_names(\"G:\\Epslion\\projects\\project 4 Uppercase names\\parallel_backup\")\n",
    "universe"
   ]
  },
  {
   "cell_type": "code",
   "execution_count": 5,
   "metadata": {},
   "outputs": [
    {
     "data": {
      "text/plain": [
       "50"
      ]
     },
     "execution_count": 5,
     "metadata": {},
     "output_type": "execute_result"
    }
   ],
   "source": [
    "len(universe)"
   ]
  },
  {
   "cell_type": "code",
   "execution_count": 15,
   "metadata": {},
   "outputs": [],
   "source": [
    "def upper_case(universe):\n",
    "\n",
    "    for i in universe:\n",
    "        print(i.upper())\n",
    "       \n",
    "    print(\"Perfectaly Balanced, as all things shoud be\")   "
   ]
  },
  {
   "cell_type": "code",
   "execution_count": 17,
   "metadata": {},
   "outputs": [
    {
     "name": "stdout",
     "output_type": "stream",
     "text": [
      "ADAM SANDLER.JPG\n",
      "ANGELINA JULIE.PNG\n",
      "ARIANA GRANDE.JPEG\n",
      "BEN AFFLECK.JPG\n",
      "BEN STILLER.JPG\n",
      "BILL GATES.JPG\n",
      "BRAD PITT.JPG\n",
      "BRITNEY SPEARS.JPG\n",
      "BRUCE LEE.JPG\n",
      "CAMERON DIAZ.JPG\n",
      "DWAYNE JOHNSON.JPG\n",
      "ELON MUSK.JPG\n",
      "ELTON JOHN.JPG\n",
      "JACK BLACK.JPG\n",
      "JACKIE CHAN.JPG\n",
      "JAMIE FOXX.JPG\n",
      "JASON SEGEL.JPG\n",
      "JASON STATHAM.JPG\n",
      "JEFF BEZOS.JPG\n",
      "JENNIFER ANISTON.JPG\n",
      "JENNIFER LOPEZ.JPG\n",
      "JERRY SEINFELD.JPG\n",
      "JIM CARREY.JPG\n",
      "JOHN CENA.JPG\n",
      "JOHNNY DEPP.JPG\n",
      "JOSH RADNOR.JPG\n",
      "JULIA ROBERTS.JPG\n",
      "JUSTIN TIMBERLAKE.JPG\n",
      "KATE UPTON.JPG\n",
      "KEANU REEVES.JPG\n",
      "KEVIN HART.JPG\n",
      "MADONNA.JPG\n",
      "MARK RUFFALO.JPG\n",
      "MARK ZUCKERBERG.JPG\n",
      "MATT DAMON.JPG\n",
      "MICHAEL JACKSON.JPG\n",
      "MICHAEL JORDAN.JPG\n",
      "MINDY KALING.JPG\n",
      "MIRANDA COSGROVE.JPG\n",
      "NEIL PATRICK HARRIS.JPG\n",
      "NICK JONAS.JPG\n",
      "NICOLE KIDMAN.JPG\n",
      "PAUL RUDD.JPG\n",
      "ROBIN WILLIAMS.JPG\n",
      "STEVE CARELL.JPG\n",
      "STEVE JOBS.JPG\n",
      "SYLVESTER STALLONE.JPG\n",
      "TOM CRUISE.JPG\n",
      "WILL FERRELL.JPG\n",
      "WILL SMITH.JPG\n",
      "Perfectaly Balanced, as all things shoud be\n"
     ]
    }
   ],
   "source": [
    "upper_case(universe)\n"
   ]
  },
  {
   "cell_type": "code",
   "execution_count": 14,
   "metadata": {},
   "outputs": [
    {
     "data": {
      "text/plain": [
       "44"
      ]
     },
     "execution_count": 14,
     "metadata": {},
     "output_type": "execute_result"
    }
   ],
   "source": [
    "New_Generation = len (universe)\n",
    "New_Generation"
   ]
  },
  {
   "cell_type": "code",
   "execution_count": null,
   "metadata": {},
   "outputs": [],
   "source": []
  }
 ],
 "metadata": {
  "interpreter": {
   "hash": "5d7396fd15fe9ecb8108477d7fdd0cb877f5e15b6a84674f8994ce8c281b1511"
  },
  "kernelspec": {
   "display_name": "Python 3.9.7 ('base')",
   "language": "python",
   "name": "python3"
  },
  "language_info": {
   "codemirror_mode": {
    "name": "ipython",
    "version": 3
   },
   "file_extension": ".py",
   "mimetype": "text/x-python",
   "name": "python",
   "nbconvert_exporter": "python",
   "pygments_lexer": "ipython3",
   "version": "3.9.7"
  },
  "orig_nbformat": 4
 },
 "nbformat": 4,
 "nbformat_minor": 2
}
